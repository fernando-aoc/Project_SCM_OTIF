{
 "cells": [
  {
   "cell_type": "markdown",
   "id": "b0539cab",
   "metadata": {},
   "source": [
    "# Modelo de Cálculo do On Time in Full ou Pedido Perfeito"
   ]
  },
  {
   "cell_type": "markdown",
   "id": "984c208c",
   "metadata": {},
   "source": [
    "### # Importando módulos"
   ]
  },
  {
   "cell_type": "code",
   "execution_count": 1,
   "id": "e1b7206d",
   "metadata": {},
   "outputs": [],
   "source": [
    "import pandas as pd\n",
    "import matplotlib.pyplot as plt\n",
    "import numpy as np\n",
    "import seaborn as sns "
   ]
  },
  {
   "cell_type": "markdown",
   "id": "c2022504",
   "metadata": {},
   "source": [
    "## Parte I: Importando e tratando a base de dados"
   ]
  },
  {
   "cell_type": "code",
   "execution_count": 2,
   "id": "6172601c",
   "metadata": {},
   "outputs": [
    {
     "data": {
      "text/html": [
       "<div>\n",
       "<style scoped>\n",
       "    .dataframe tbody tr th:only-of-type {\n",
       "        vertical-align: middle;\n",
       "    }\n",
       "\n",
       "    .dataframe tbody tr th {\n",
       "        vertical-align: top;\n",
       "    }\n",
       "\n",
       "    .dataframe thead th {\n",
       "        text-align: right;\n",
       "    }\n",
       "</style>\n",
       "<table border=\"1\" class=\"dataframe\">\n",
       "  <thead>\n",
       "    <tr style=\"text-align: right;\">\n",
       "      <th></th>\n",
       "      <th>Número do Processo</th>\n",
       "      <th>ATD</th>\n",
       "      <th>ETA</th>\n",
       "      <th>ATA</th>\n",
       "      <th>Ponto de Partida</th>\n",
       "      <th>Ponto de Destino</th>\n",
       "      <th>Status da Mercadoria</th>\n",
       "      <th>Entrega Realizada?</th>\n",
       "    </tr>\n",
       "  </thead>\n",
       "  <tbody>\n",
       "    <tr>\n",
       "      <th>0</th>\n",
       "      <td>1</td>\n",
       "      <td>01/09/2023</td>\n",
       "      <td>05/09/2023</td>\n",
       "      <td>04/09/2023</td>\n",
       "      <td>Fábrica A</td>\n",
       "      <td>Loja X</td>\n",
       "      <td>Mercadoria em Bom Estado</td>\n",
       "      <td>Sim</td>\n",
       "    </tr>\n",
       "    <tr>\n",
       "      <th>1</th>\n",
       "      <td>2</td>\n",
       "      <td>02/09/2023</td>\n",
       "      <td>06/09/2023</td>\n",
       "      <td>06/09/2023</td>\n",
       "      <td>Armazém B</td>\n",
       "      <td>Loja Y</td>\n",
       "      <td>Mercadoria em Bom Estado</td>\n",
       "      <td>Sim</td>\n",
       "    </tr>\n",
       "    <tr>\n",
       "      <th>2</th>\n",
       "      <td>3</td>\n",
       "      <td>03/09/2023</td>\n",
       "      <td>07/09/2023</td>\n",
       "      <td>05/09/2023</td>\n",
       "      <td>Fábrica C</td>\n",
       "      <td>Loja Z</td>\n",
       "      <td>Mercadoria Danificada</td>\n",
       "      <td>Sim</td>\n",
       "    </tr>\n",
       "    <tr>\n",
       "      <th>3</th>\n",
       "      <td>4</td>\n",
       "      <td>04/09/2023</td>\n",
       "      <td>08/09/2023</td>\n",
       "      <td>08/09/2023</td>\n",
       "      <td>Fábrica D</td>\n",
       "      <td>Armazém X</td>\n",
       "      <td>Mercadoria em Bom Estado</td>\n",
       "      <td>Sim</td>\n",
       "    </tr>\n",
       "    <tr>\n",
       "      <th>4</th>\n",
       "      <td>5</td>\n",
       "      <td>05/09/2023</td>\n",
       "      <td>09/09/2023</td>\n",
       "      <td>09/09/2023</td>\n",
       "      <td>Fábrica D</td>\n",
       "      <td>Armazém X</td>\n",
       "      <td>Mercadoria em Bom Estado</td>\n",
       "      <td>Sim</td>\n",
       "    </tr>\n",
       "  </tbody>\n",
       "</table>\n",
       "</div>"
      ],
      "text/plain": [
       "   Número do Processo         ATD         ETA         ATA Ponto de Partida  \\\n",
       "0                   1  01/09/2023  05/09/2023  04/09/2023        Fábrica A   \n",
       "1                   2  02/09/2023  06/09/2023  06/09/2023        Armazém B   \n",
       "2                   3  03/09/2023  07/09/2023  05/09/2023        Fábrica C   \n",
       "3                   4  04/09/2023  08/09/2023  08/09/2023        Fábrica D   \n",
       "4                   5  05/09/2023  09/09/2023  09/09/2023        Fábrica D   \n",
       "\n",
       "  Ponto de Destino      Status da Mercadoria Entrega Realizada?  \n",
       "0           Loja X  Mercadoria em Bom Estado                Sim  \n",
       "1           Loja Y  Mercadoria em Bom Estado                Sim  \n",
       "2           Loja Z     Mercadoria Danificada                Sim  \n",
       "3        Armazém X  Mercadoria em Bom Estado                Sim  \n",
       "4        Armazém X  Mercadoria em Bom Estado                Sim  "
      ]
     },
     "execution_count": 2,
     "metadata": {},
     "output_type": "execute_result"
    }
   ],
   "source": [
    "entregas = pd.read_csv('dados/bd_entregas.csv')\n",
    "entregas.head()"
   ]
  },
  {
   "cell_type": "code",
   "execution_count": 3,
   "id": "16bcb3c7",
   "metadata": {},
   "outputs": [
    {
     "name": "stdout",
     "output_type": "stream",
     "text": [
      "<class 'pandas.core.frame.DataFrame'>\n",
      "RangeIndex: 249 entries, 0 to 248\n",
      "Data columns (total 8 columns):\n",
      " #   Column                Non-Null Count  Dtype \n",
      "---  ------                --------------  ----- \n",
      " 0   Número do Processo    249 non-null    int64 \n",
      " 1   ATD                   249 non-null    object\n",
      " 2   ETA                   249 non-null    object\n",
      " 3   ATA                   249 non-null    object\n",
      " 4   Ponto de Partida      249 non-null    object\n",
      " 5   Ponto de Destino      249 non-null    object\n",
      " 6   Status da Mercadoria  249 non-null    object\n",
      " 7   Entrega Realizada?    249 non-null    object\n",
      "dtypes: int64(1), object(7)\n",
      "memory usage: 15.7+ KB\n"
     ]
    }
   ],
   "source": [
    "entregas.info()"
   ]
  },
  {
   "cell_type": "code",
   "execution_count": 4,
   "id": "6e7c1060",
   "metadata": {},
   "outputs": [
    {
     "data": {
      "text/html": [
       "<div>\n",
       "<style scoped>\n",
       "    .dataframe tbody tr th:only-of-type {\n",
       "        vertical-align: middle;\n",
       "    }\n",
       "\n",
       "    .dataframe tbody tr th {\n",
       "        vertical-align: top;\n",
       "    }\n",
       "\n",
       "    .dataframe thead th {\n",
       "        text-align: right;\n",
       "    }\n",
       "</style>\n",
       "<table border=\"1\" class=\"dataframe\">\n",
       "  <thead>\n",
       "    <tr style=\"text-align: right;\">\n",
       "      <th></th>\n",
       "      <th>ETA</th>\n",
       "      <th>ATA</th>\n",
       "      <th>Ponto de Partida</th>\n",
       "      <th>Ponto de Destino</th>\n",
       "      <th>Status da Mercadoria</th>\n",
       "      <th>Entrega Realizada?</th>\n",
       "    </tr>\n",
       "  </thead>\n",
       "  <tbody>\n",
       "    <tr>\n",
       "      <th>0</th>\n",
       "      <td>05/09/2023</td>\n",
       "      <td>04/09/2023</td>\n",
       "      <td>Fábrica A</td>\n",
       "      <td>Loja X</td>\n",
       "      <td>Mercadoria em Bom Estado</td>\n",
       "      <td>Sim</td>\n",
       "    </tr>\n",
       "    <tr>\n",
       "      <th>1</th>\n",
       "      <td>06/09/2023</td>\n",
       "      <td>06/09/2023</td>\n",
       "      <td>Armazém B</td>\n",
       "      <td>Loja Y</td>\n",
       "      <td>Mercadoria em Bom Estado</td>\n",
       "      <td>Sim</td>\n",
       "    </tr>\n",
       "    <tr>\n",
       "      <th>2</th>\n",
       "      <td>07/09/2023</td>\n",
       "      <td>05/09/2023</td>\n",
       "      <td>Fábrica C</td>\n",
       "      <td>Loja Z</td>\n",
       "      <td>Mercadoria Danificada</td>\n",
       "      <td>Sim</td>\n",
       "    </tr>\n",
       "    <tr>\n",
       "      <th>3</th>\n",
       "      <td>08/09/2023</td>\n",
       "      <td>08/09/2023</td>\n",
       "      <td>Fábrica D</td>\n",
       "      <td>Armazém X</td>\n",
       "      <td>Mercadoria em Bom Estado</td>\n",
       "      <td>Sim</td>\n",
       "    </tr>\n",
       "    <tr>\n",
       "      <th>4</th>\n",
       "      <td>09/09/2023</td>\n",
       "      <td>09/09/2023</td>\n",
       "      <td>Fábrica D</td>\n",
       "      <td>Armazém X</td>\n",
       "      <td>Mercadoria em Bom Estado</td>\n",
       "      <td>Sim</td>\n",
       "    </tr>\n",
       "  </tbody>\n",
       "</table>\n",
       "</div>"
      ],
      "text/plain": [
       "          ETA         ATA Ponto de Partida Ponto de Destino  \\\n",
       "0  05/09/2023  04/09/2023        Fábrica A           Loja X   \n",
       "1  06/09/2023  06/09/2023        Armazém B           Loja Y   \n",
       "2  07/09/2023  05/09/2023        Fábrica C           Loja Z   \n",
       "3  08/09/2023  08/09/2023        Fábrica D        Armazém X   \n",
       "4  09/09/2023  09/09/2023        Fábrica D        Armazém X   \n",
       "\n",
       "       Status da Mercadoria Entrega Realizada?  \n",
       "0  Mercadoria em Bom Estado                Sim  \n",
       "1  Mercadoria em Bom Estado                Sim  \n",
       "2     Mercadoria Danificada                Sim  \n",
       "3  Mercadoria em Bom Estado                Sim  \n",
       "4  Mercadoria em Bom Estado                Sim  "
      ]
     },
     "execution_count": 4,
     "metadata": {},
     "output_type": "execute_result"
    }
   ],
   "source": [
    "entregas = entregas.drop(['Número do Processo', 'ATD'], axis=1)\n",
    "entregas.head()"
   ]
  },
  {
   "cell_type": "code",
   "execution_count": 5,
   "id": "395c556b",
   "metadata": {},
   "outputs": [],
   "source": [
    "entregas['ETA']=pd.to_datetime(entregas['ETA'], format='%d/%m/%Y')"
   ]
  },
  {
   "cell_type": "code",
   "execution_count": 6,
   "id": "d388b26c",
   "metadata": {},
   "outputs": [],
   "source": [
    "entregas['ATA']=pd.to_datetime(entregas['ATA'], format='%d/%m/%Y', errors='coerce')"
   ]
  },
  {
   "cell_type": "code",
   "execution_count": 7,
   "id": "9a21f355",
   "metadata": {},
   "outputs": [
    {
     "data": {
      "text/html": [
       "<div>\n",
       "<style scoped>\n",
       "    .dataframe tbody tr th:only-of-type {\n",
       "        vertical-align: middle;\n",
       "    }\n",
       "\n",
       "    .dataframe tbody tr th {\n",
       "        vertical-align: top;\n",
       "    }\n",
       "\n",
       "    .dataframe thead th {\n",
       "        text-align: right;\n",
       "    }\n",
       "</style>\n",
       "<table border=\"1\" class=\"dataframe\">\n",
       "  <thead>\n",
       "    <tr style=\"text-align: right;\">\n",
       "      <th></th>\n",
       "      <th>ETA</th>\n",
       "      <th>ATA</th>\n",
       "      <th>Ponto de Partida</th>\n",
       "      <th>Ponto de Destino</th>\n",
       "      <th>Status da Mercadoria</th>\n",
       "      <th>Entrega Realizada?</th>\n",
       "    </tr>\n",
       "  </thead>\n",
       "  <tbody>\n",
       "    <tr>\n",
       "      <th>0</th>\n",
       "      <td>2023-09-05</td>\n",
       "      <td>2023-09-04</td>\n",
       "      <td>Fábrica A</td>\n",
       "      <td>Loja X</td>\n",
       "      <td>Mercadoria em Bom Estado</td>\n",
       "      <td>Sim</td>\n",
       "    </tr>\n",
       "    <tr>\n",
       "      <th>1</th>\n",
       "      <td>2023-09-06</td>\n",
       "      <td>2023-09-06</td>\n",
       "      <td>Armazém B</td>\n",
       "      <td>Loja Y</td>\n",
       "      <td>Mercadoria em Bom Estado</td>\n",
       "      <td>Sim</td>\n",
       "    </tr>\n",
       "    <tr>\n",
       "      <th>2</th>\n",
       "      <td>2023-09-07</td>\n",
       "      <td>2023-09-05</td>\n",
       "      <td>Fábrica C</td>\n",
       "      <td>Loja Z</td>\n",
       "      <td>Mercadoria Danificada</td>\n",
       "      <td>Sim</td>\n",
       "    </tr>\n",
       "    <tr>\n",
       "      <th>3</th>\n",
       "      <td>2023-09-08</td>\n",
       "      <td>2023-09-08</td>\n",
       "      <td>Fábrica D</td>\n",
       "      <td>Armazém X</td>\n",
       "      <td>Mercadoria em Bom Estado</td>\n",
       "      <td>Sim</td>\n",
       "    </tr>\n",
       "    <tr>\n",
       "      <th>4</th>\n",
       "      <td>2023-09-09</td>\n",
       "      <td>2023-09-09</td>\n",
       "      <td>Fábrica D</td>\n",
       "      <td>Armazém X</td>\n",
       "      <td>Mercadoria em Bom Estado</td>\n",
       "      <td>Sim</td>\n",
       "    </tr>\n",
       "  </tbody>\n",
       "</table>\n",
       "</div>"
      ],
      "text/plain": [
       "         ETA        ATA Ponto de Partida Ponto de Destino  \\\n",
       "0 2023-09-05 2023-09-04        Fábrica A           Loja X   \n",
       "1 2023-09-06 2023-09-06        Armazém B           Loja Y   \n",
       "2 2023-09-07 2023-09-05        Fábrica C           Loja Z   \n",
       "3 2023-09-08 2023-09-08        Fábrica D        Armazém X   \n",
       "4 2023-09-09 2023-09-09        Fábrica D        Armazém X   \n",
       "\n",
       "       Status da Mercadoria Entrega Realizada?  \n",
       "0  Mercadoria em Bom Estado                Sim  \n",
       "1  Mercadoria em Bom Estado                Sim  \n",
       "2     Mercadoria Danificada                Sim  \n",
       "3  Mercadoria em Bom Estado                Sim  \n",
       "4  Mercadoria em Bom Estado                Sim  "
      ]
     },
     "execution_count": 7,
     "metadata": {},
     "output_type": "execute_result"
    }
   ],
   "source": [
    "entregas.head()"
   ]
  },
  {
   "cell_type": "markdown",
   "id": "77b3a4b1",
   "metadata": {},
   "source": [
    "### # Contabilizando entregas feitas dentro do prazo "
   ]
  },
  {
   "cell_type": "code",
   "execution_count": 8,
   "id": "8e422a9d",
   "metadata": {},
   "outputs": [
    {
     "data": {
      "text/plain": [
       "188"
      ]
     },
     "execution_count": 8,
     "metadata": {},
     "output_type": "execute_result"
    }
   ],
   "source": [
    "entregas_no_prazo = (entregas['ATA'] <= entregas['ETA']).sum()\n",
    "entregas_no_prazo"
   ]
  },
  {
   "cell_type": "code",
   "execution_count": 9,
   "id": "e80e14ac",
   "metadata": {},
   "outputs": [
    {
     "data": {
      "text/plain": [
       "248"
      ]
     },
     "execution_count": 9,
     "metadata": {},
     "output_type": "execute_result"
    }
   ],
   "source": [
    "total = entregas.shape[0] - 1\n",
    "total"
   ]
  },
  {
   "cell_type": "code",
   "execution_count": 10,
   "id": "568bbadc",
   "metadata": {},
   "outputs": [
    {
     "data": {
      "text/plain": [
       "0.7580645161290323"
      ]
     },
     "execution_count": 10,
     "metadata": {},
     "output_type": "execute_result"
    }
   ],
   "source": [
    "percentual_prazo = entregas_no_prazo / total\n",
    "percentual_prazo"
   ]
  },
  {
   "cell_type": "markdown",
   "id": "84e443ea",
   "metadata": {},
   "source": [
    "### # Contabilizando entregas sem problemas com a mercadoria "
   ]
  },
  {
   "cell_type": "code",
   "execution_count": 11,
   "id": "1bc046b0",
   "metadata": {},
   "outputs": [
    {
     "data": {
      "text/plain": [
       "165"
      ]
     },
     "execution_count": 11,
     "metadata": {},
     "output_type": "execute_result"
    }
   ],
   "source": [
    "mercadoria_bom_estado = (entregas['Status da Mercadoria'] == 'Mercadoria em Bom Estado').sum()\n",
    "mercadoria_bom_estado"
   ]
  },
  {
   "cell_type": "code",
   "execution_count": 12,
   "id": "b27990d1",
   "metadata": {},
   "outputs": [
    {
     "data": {
      "text/plain": [
       "27"
      ]
     },
     "execution_count": 12,
     "metadata": {},
     "output_type": "execute_result"
    }
   ],
   "source": [
    "pendente = (entregas['Status da Mercadoria'] == 'Pendente').sum()\n",
    "pendente"
   ]
  },
  {
   "cell_type": "code",
   "execution_count": 13,
   "id": "443945f7",
   "metadata": {},
   "outputs": [
    {
     "data": {
      "text/plain": [
       "0.746606334841629"
      ]
     },
     "execution_count": 13,
     "metadata": {},
     "output_type": "execute_result"
    }
   ],
   "source": [
    "x = total - pendente\n",
    "percentual_bom_estado = mercadoria_bom_estado / x\n",
    "percentual_bom_estado"
   ]
  },
  {
   "cell_type": "markdown",
   "id": "dcf8429c",
   "metadata": {},
   "source": [
    "### # Contabilizando entregas realizadas"
   ]
  },
  {
   "cell_type": "code",
   "execution_count": 14,
   "id": "2a8b9256",
   "metadata": {},
   "outputs": [
    {
     "data": {
      "text/plain": [
       "222"
      ]
     },
     "execution_count": 14,
     "metadata": {},
     "output_type": "execute_result"
    }
   ],
   "source": [
    "entregas_feitas = (entregas['Entrega Realizada?'] == 'Sim').sum()\n",
    "entregas_feitas"
   ]
  },
  {
   "cell_type": "code",
   "execution_count": 15,
   "id": "598819d8",
   "metadata": {},
   "outputs": [
    {
     "data": {
      "text/plain": [
       "0.8951612903225806"
      ]
     },
     "execution_count": 15,
     "metadata": {},
     "output_type": "execute_result"
    }
   ],
   "source": [
    "percetual_feito = entregas_feitas / total\n",
    "percetual_feito"
   ]
  },
  {
   "cell_type": "markdown",
   "id": "bf32b94f",
   "metadata": {},
   "source": [
    "## Parte II: Criando Função para Cálculo de OTIF"
   ]
  },
  {
   "cell_type": "code",
   "execution_count": 16,
   "id": "e01a126a",
   "metadata": {},
   "outputs": [],
   "source": [
    "# x = entregas feitas no prazo\n",
    "# y = entregas sem erros\n",
    "# z = entregas finalizadas \n",
    "\n",
    "def calculando_OTIF(x, y, z):\n",
    "    otif = x * y * z\n",
    "    otif = otif * 100\n",
    "    if otif >= 95:\n",
    "        print(\"Pedido Perfeito: OTIF de {}% de precisão\".format(otif.round(2)))\n",
    "    else:\n",
    "        print(\"Precisão de {}%: OTIF abaixo do esperado\".format(otif.round(2)))"
   ]
  },
  {
   "cell_type": "markdown",
   "id": "f9c683cc",
   "metadata": {},
   "source": [
    "## Parte III: Cálculando o OTIF"
   ]
  },
  {
   "cell_type": "code",
   "execution_count": 17,
   "id": "af28c4fe",
   "metadata": {},
   "outputs": [
    {
     "name": "stdout",
     "output_type": "stream",
     "text": [
      "Precisão de 50.66%: OTIF abaixo do esperado\n"
     ]
    }
   ],
   "source": [
    "x = percentual_prazo\n",
    "y = percentual_bom_estado\n",
    "z = percetual_feito\n",
    "\n",
    "OTIF = calculando_OTIF(x, y, z)\n",
    "OTIF"
   ]
  },
  {
   "cell_type": "markdown",
   "id": "11302fbd",
   "metadata": {},
   "source": [
    "## Parte IV: Entendo os problemas"
   ]
  },
  {
   "cell_type": "code",
   "execution_count": 18,
   "id": "f5b95bf0",
   "metadata": {},
   "outputs": [
    {
     "data": {
      "text/plain": [
       "array(['Mercadoria em Bom Estado', 'Mercadoria Danificada', 'Pendente',\n",
       "       'Itens Faltantes'], dtype=object)"
      ]
     },
     "execution_count": 18,
     "metadata": {},
     "output_type": "execute_result"
    }
   ],
   "source": [
    "entregas['Status da Mercadoria'].unique()"
   ]
  },
  {
   "cell_type": "code",
   "execution_count": 19,
   "id": "1e3c59c4",
   "metadata": {},
   "outputs": [],
   "source": [
    "mercadoria_danificada = (entregas['Status da Mercadoria'] == 'Mercadoria Danificada').sum()\n",
    "mercadoria_faltante = (entregas['Status da Mercadoria'] == 'Itens Faltantes').sum()"
   ]
  },
  {
   "cell_type": "code",
   "execution_count": 20,
   "id": "c28535a6",
   "metadata": {},
   "outputs": [],
   "source": [
    "mercadadorias = np.array([mercadoria_bom_estado, mercadoria_danificada, mercadoria_faltante])\n",
    "mercadorias_entregues = entregas[entregas['Status da Mercadoria'] != 'Pendente']"
   ]
  },
  {
   "cell_type": "code",
   "execution_count": 21,
   "id": "bdbe6c64",
   "metadata": {},
   "outputs": [],
   "source": [
    "total = mercadorias_entregues.shape[0]\n",
    "entregue_bom_estado = mercadoria_bom_estado / total\n",
    "entregue_danificado = mercadoria_danificada / total\n",
    "entregue_faltante = mercadoria_faltante / total"
   ]
  },
  {
   "cell_type": "markdown",
   "id": "6085a6be",
   "metadata": {},
   "source": [
    "### # Plotando gráfico de pizza sobre o estado das mercadorias entregues "
   ]
  },
  {
   "cell_type": "code",
   "execution_count": 22,
   "id": "35d70548",
   "metadata": {},
   "outputs": [
    {
     "data": {
      "text/plain": [
       "<Figure size 640x480 with 0 Axes>"
      ]
     },
     "execution_count": 22,
     "metadata": {},
     "output_type": "execute_result"
    },
    {
     "data": {
      "image/png": "[encoded data removed]",
      "text/plain": [
       "<Figure size 640x480 with 1 Axes>"
      ]
     },
     "metadata": {},
     "output_type": "display_data"
    },
    {
     "data": {
      "text/plain": [
       "<Figure size 640x480 with 0 Axes>"
      ]
     },
     "metadata": {},
     "output_type": "display_data"
    }
   ],
   "source": [
    "plt.title(\"Estado das Mercadorias Entregues\", fontsize = 15, loc = 'left', weight='bold')\n",
    "sns.set_palette('Accent')\n",
    "etiquetas =  ['Mercadoria em Bom Estado: {:.2%}'.format(entregue_bom_estado),'Mercadoria Danificada: {:.2%}'.format(entregue_danificado),'Itens Faltantes: {:.2%}'.format(entregue_faltante)]\n",
    "plt.pie(mercadadorias, labels = etiquetas)\n",
    "plt.figure() "
   ]
  },
  {
   "cell_type": "code",
   "execution_count": 23,
   "id": "8f943d7e",
   "metadata": {},
   "outputs": [
    {
     "data": {
      "text/html": [
       "<div>\n",
       "<style scoped>\n",
       "    .dataframe tbody tr th:only-of-type {\n",
       "        vertical-align: middle;\n",
       "    }\n",
       "\n",
       "    .dataframe tbody tr th {\n",
       "        vertical-align: top;\n",
       "    }\n",
       "\n",
       "    .dataframe thead th {\n",
       "        text-align: right;\n",
       "    }\n",
       "</style>\n",
       "<table border=\"1\" class=\"dataframe\">\n",
       "  <thead>\n",
       "    <tr style=\"text-align: right;\">\n",
       "      <th></th>\n",
       "      <th>ETA</th>\n",
       "      <th>ATA</th>\n",
       "      <th>Ponto de Partida</th>\n",
       "      <th>Ponto de Destino</th>\n",
       "      <th>Status da Mercadoria</th>\n",
       "      <th>Entrega Realizada?</th>\n",
       "    </tr>\n",
       "  </thead>\n",
       "  <tbody>\n",
       "    <tr>\n",
       "      <th>0</th>\n",
       "      <td>2023-09-05</td>\n",
       "      <td>2023-09-04</td>\n",
       "      <td>Fábrica A</td>\n",
       "      <td>Loja X</td>\n",
       "      <td>Mercadoria em Bom Estado</td>\n",
       "      <td>Sim</td>\n",
       "    </tr>\n",
       "    <tr>\n",
       "      <th>1</th>\n",
       "      <td>2023-09-06</td>\n",
       "      <td>2023-09-06</td>\n",
       "      <td>Armazém B</td>\n",
       "      <td>Loja Y</td>\n",
       "      <td>Mercadoria em Bom Estado</td>\n",
       "      <td>Sim</td>\n",
       "    </tr>\n",
       "    <tr>\n",
       "      <th>2</th>\n",
       "      <td>2023-09-07</td>\n",
       "      <td>2023-09-05</td>\n",
       "      <td>Fábrica C</td>\n",
       "      <td>Loja Z</td>\n",
       "      <td>Mercadoria Danificada</td>\n",
       "      <td>Sim</td>\n",
       "    </tr>\n",
       "    <tr>\n",
       "      <th>3</th>\n",
       "      <td>2023-09-08</td>\n",
       "      <td>2023-09-08</td>\n",
       "      <td>Fábrica D</td>\n",
       "      <td>Armazém X</td>\n",
       "      <td>Mercadoria em Bom Estado</td>\n",
       "      <td>Sim</td>\n",
       "    </tr>\n",
       "    <tr>\n",
       "      <th>4</th>\n",
       "      <td>2023-09-09</td>\n",
       "      <td>2023-09-09</td>\n",
       "      <td>Fábrica D</td>\n",
       "      <td>Armazém X</td>\n",
       "      <td>Mercadoria em Bom Estado</td>\n",
       "      <td>Sim</td>\n",
       "    </tr>\n",
       "  </tbody>\n",
       "</table>\n",
       "</div>"
      ],
      "text/plain": [
       "         ETA        ATA Ponto de Partida Ponto de Destino  \\\n",
       "0 2023-09-05 2023-09-04        Fábrica A           Loja X   \n",
       "1 2023-09-06 2023-09-06        Armazém B           Loja Y   \n",
       "2 2023-09-07 2023-09-05        Fábrica C           Loja Z   \n",
       "3 2023-09-08 2023-09-08        Fábrica D        Armazém X   \n",
       "4 2023-09-09 2023-09-09        Fábrica D        Armazém X   \n",
       "\n",
       "       Status da Mercadoria Entrega Realizada?  \n",
       "0  Mercadoria em Bom Estado                Sim  \n",
       "1  Mercadoria em Bom Estado                Sim  \n",
       "2     Mercadoria Danificada                Sim  \n",
       "3  Mercadoria em Bom Estado                Sim  \n",
       "4  Mercadoria em Bom Estado                Sim  "
      ]
     },
     "execution_count": 23,
     "metadata": {},
     "output_type": "execute_result"
    }
   ],
   "source": [
    "entregas.head()"
   ]
  },
  {
   "cell_type": "code",
   "execution_count": 24,
   "id": "67cf8244",
   "metadata": {},
   "outputs": [
    {
     "data": {
      "text/html": [
       "<div>\n",
       "<style scoped>\n",
       "    .dataframe tbody tr th:only-of-type {\n",
       "        vertical-align: middle;\n",
       "    }\n",
       "\n",
       "    .dataframe tbody tr th {\n",
       "        vertical-align: top;\n",
       "    }\n",
       "\n",
       "    .dataframe thead th {\n",
       "        text-align: right;\n",
       "    }\n",
       "</style>\n",
       "<table border=\"1\" class=\"dataframe\">\n",
       "  <thead>\n",
       "    <tr style=\"text-align: right;\">\n",
       "      <th></th>\n",
       "      <th>ETA</th>\n",
       "      <th>ATA</th>\n",
       "      <th>Ponto de Partida</th>\n",
       "      <th>Ponto de Destino</th>\n",
       "      <th>Status da Mercadoria</th>\n",
       "      <th>Entrega Realizada?</th>\n",
       "    </tr>\n",
       "  </thead>\n",
       "  <tbody>\n",
       "    <tr>\n",
       "      <th>15</th>\n",
       "      <td>2023-09-20</td>\n",
       "      <td>2023-09-25</td>\n",
       "      <td>Loja Z</td>\n",
       "      <td>Loja X</td>\n",
       "      <td>Itens Faltantes</td>\n",
       "      <td>Sim</td>\n",
       "    </tr>\n",
       "    <tr>\n",
       "      <th>21</th>\n",
       "      <td>2023-09-26</td>\n",
       "      <td>2023-09-27</td>\n",
       "      <td>Loja Y</td>\n",
       "      <td>Fábrica B</td>\n",
       "      <td>Mercadoria Danificada</td>\n",
       "      <td>Sim</td>\n",
       "    </tr>\n",
       "    <tr>\n",
       "      <th>23</th>\n",
       "      <td>2023-09-28</td>\n",
       "      <td>2023-09-30</td>\n",
       "      <td>Fábrica A</td>\n",
       "      <td>Armazém Y</td>\n",
       "      <td>Mercadoria Danificada</td>\n",
       "      <td>Sim</td>\n",
       "    </tr>\n",
       "    <tr>\n",
       "      <th>76</th>\n",
       "      <td>2023-11-20</td>\n",
       "      <td>2023-12-20</td>\n",
       "      <td>Armazém Y</td>\n",
       "      <td>Loja Z</td>\n",
       "      <td>Mercadoria em Bom Estado</td>\n",
       "      <td>Sim</td>\n",
       "    </tr>\n",
       "    <tr>\n",
       "      <th>77</th>\n",
       "      <td>2023-11-21</td>\n",
       "      <td>2023-12-21</td>\n",
       "      <td>Armazém Y</td>\n",
       "      <td>Loja Z</td>\n",
       "      <td>Mercadoria em Bom Estado</td>\n",
       "      <td>Sim</td>\n",
       "    </tr>\n",
       "  </tbody>\n",
       "</table>\n",
       "</div>"
      ],
      "text/plain": [
       "          ETA        ATA Ponto de Partida Ponto de Destino  \\\n",
       "15 2023-09-20 2023-09-25           Loja Z           Loja X   \n",
       "21 2023-09-26 2023-09-27           Loja Y        Fábrica B   \n",
       "23 2023-09-28 2023-09-30        Fábrica A        Armazém Y   \n",
       "76 2023-11-20 2023-12-20        Armazém Y           Loja Z   \n",
       "77 2023-11-21 2023-12-21        Armazém Y           Loja Z   \n",
       "\n",
       "        Status da Mercadoria Entrega Realizada?  \n",
       "15           Itens Faltantes                Sim  \n",
       "21     Mercadoria Danificada                Sim  \n",
       "23     Mercadoria Danificada                Sim  \n",
       "76  Mercadoria em Bom Estado                Sim  \n",
       "77  Mercadoria em Bom Estado                Sim  "
      ]
     },
     "execution_count": 24,
     "metadata": {},
     "output_type": "execute_result"
    }
   ],
   "source": [
    "selecao = (entregas['ATA'] > entregas['ETA'])\n",
    "entregas_atrasadas = entregas[selecao]\n",
    "entregas_atrasadas.head()"
   ]
  },
  {
   "cell_type": "code",
   "execution_count": 25,
   "id": "abfe6f59",
   "metadata": {},
   "outputs": [],
   "source": [
    "media_atraso = entregas_atrasadas['ATA'] - entregas_atrasadas['ETA']"
   ]
  },
  {
   "cell_type": "code",
   "execution_count": 26,
   "id": "8700dc55",
   "metadata": {},
   "outputs": [],
   "source": [
    "media_atraso = media_atraso.dt.days.astype(float)"
   ]
  },
  {
   "cell_type": "code",
   "execution_count": 27,
   "id": "45c95e89",
   "metadata": {},
   "outputs": [],
   "source": [
    "lista_atraso = media_atraso.tolist()\n",
    "lista_atraso = np.array(lista_atraso)"
   ]
  },
  {
   "cell_type": "markdown",
   "id": "1e4517ff",
   "metadata": {},
   "source": [
    "### # Plotando histograma para verificar a frequência dos atrasos nas entregas já realizadas"
   ]
  },
  {
   "cell_type": "code",
   "execution_count": 28,
   "id": "e71f478d",
   "metadata": {},
   "outputs": [
    {
     "data": {
      "text/plain": [
       "Text(0, 0.5, 'Frequência')"
      ]
     },
     "execution_count": 28,
     "metadata": {},
     "output_type": "execute_result"
    },
    {
     "data": {
      "image/png": "[encoded data removed]",
      "text/plain": [
       "<Figure size 1000x500 with 1 Axes>"
      ]
     },
     "metadata": {},
     "output_type": "display_data"
    }
   ],
   "source": [
    "sns.set_palette('Accent')\n",
    "sns.set_style('darkgrid')\n",
    "plt.figure(figsize=(10,5))\n",
    "plt.hist(lista_atraso, bins=30)\n",
    "plt.title('Frequência dos Dias de Atraso', fontsize = 18)\n",
    "plt.xlabel('Atraso em Dias', fontsize = 14)\n",
    "plt.ylabel('Frequência', fontsize = 14)"
   ]
  },
  {
   "cell_type": "markdown",
   "id": "d365d3a2",
   "metadata": {},
   "source": [
    "### # Tabela para verificar a frequência dos atrasos por trecho em todas as entregas (inclusive ainda não finalizadas)"
   ]
  },
  {
   "cell_type": "code",
   "execution_count": 29,
   "id": "d1da024f",
   "metadata": {},
   "outputs": [
    {
     "data": {
      "text/plain": [
       "Ponto de Partida  Ponto de Destino\n",
       "Armazém Z         Loja Y              9\n",
       "Fábrica C         Armazém Z           5\n",
       "Armazém Y         Loja X              4\n",
       "Armazém X         Fábrica C           4\n",
       "Fábrica B         Fábrica A           4\n",
       "Fábrica A         Loja Z              3\n",
       "Loja Y            Armazém X           3\n",
       "Armazém Y         Armazém X           2\n",
       "Armazém X         Loja Z              2\n",
       "Armazém Y         Loja Z              2\n",
       "Fábrica C         Loja X              2\n",
       "Loja X            Loja Z              2\n",
       "Loja Z            Fábrica B           2\n",
       "Loja X            Loja Y              2\n",
       "Armazém Z         Loja Z              2\n",
       "Loja Y            Fábrica B           1\n",
       "                  Fábrica A           1\n",
       "Fábrica X         Loja Y              1\n",
       "Armazém X         Fábrica A           1\n",
       "Fábrica C         Fábrica A           1\n",
       "Fábrica B         Loja Z              1\n",
       "                  Loja X              1\n",
       "                  Armazém Z           1\n",
       "                  Armazém Y           1\n",
       "Fábrica A         Armazém Y           1\n",
       "Armazém X         Loja Y              1\n",
       "                  Loja X              1\n",
       "Loja Z            Loja X              1\n",
       "dtype: int64"
      ]
     },
     "execution_count": 29,
     "metadata": {},
     "output_type": "execute_result"
    }
   ],
   "source": [
    "selecao = (entregas['ATA'].isna() | (entregas['ATA'] > entregas['ETA']))\n",
    "entregas_atrasadas_totais = entregas[selecao]\n",
    "entregas_atrasadas_totais.groupby(['Ponto de Partida', 'Ponto de Destino']).size().sort_values(ascending=False)"
   ]
  },
  {
   "cell_type": "code",
   "execution_count": 30,
   "id": "cdb36301",
   "metadata": {},
   "outputs": [],
   "source": [
    "x = pd.DataFrame(entregas_atrasadas_totais.groupby(['Ponto de Partida', 'Ponto de Destino']).size().sort_values(ascending=False))"
   ]
  },
  {
   "cell_type": "code",
   "execution_count": 31,
   "id": "46a75dec",
   "metadata": {},
   "outputs": [
    {
     "data": {
      "image/png": "[encoded data removed]",
      "text/plain": [
       "<Figure size 1000x500 with 1 Axes>"
      ]
     },
     "metadata": {},
     "output_type": "display_data"
    }
   ],
   "source": [
    "sns.set_palette('Accent')\n",
    "sns.set_style('darkgrid')\n",
    "plt.rcParams[\"figure.figsize\"] = (10, 5)\n",
    "x.plot(kind='bar', legend=False)\n",
    "plt.xlabel('Trecho', fontsize=14)\n",
    "plt.ylabel('Frequência', fontsize=14)\n",
    "plt.title('Frequência de Atraso por Trecho', fontsize=18)\n",
    "plt.show()"
   ]
  },
  {
   "cell_type": "markdown",
   "id": "91c8eda4",
   "metadata": {},
   "source": [
    "### # Tabela para verificar o total de atrasos por trecho em dias somados"
   ]
  },
  {
   "cell_type": "code",
   "execution_count": 32,
   "id": "7970c951",
   "metadata": {},
   "outputs": [
    {
     "name": "stderr",
     "output_type": "stream",
     "text": [
      "C:\\Users\\User\\AppData\\Local\\Temp\\ipykernel_17404\\3764307117.py:1: SettingWithCopyWarning: \n",
      "A value is trying to be set on a copy of a slice from a DataFrame.\n",
      "Try using .loc[row_indexer,col_indexer] = value instead\n",
      "\n",
      "See the caveats in the documentation: https://pandas.pydata.org/pandas-docs/stable/user_guide/indexing.html#returning-a-view-versus-a-copy\n",
      "  entregas_atrasadas['Atraso Total'] = entregas_atrasadas['ATA'] - entregas_atrasadas['ETA']\n"
     ]
    }
   ],
   "source": [
    "entregas_atrasadas['Atraso Total'] = entregas_atrasadas['ATA'] - entregas_atrasadas['ETA']\n",
    "atraso_por_trecho = entregas_atrasadas.groupby(['Ponto de Partida', 'Ponto de Destino'])['Atraso Total'].sum().reset_index()\n",
    "atraso_por_trecho = atraso_por_trecho.sort_values(by='Atraso Total', ascending=False)"
   ]
  },
  {
   "cell_type": "code",
   "execution_count": 33,
   "id": "4b8ed737",
   "metadata": {},
   "outputs": [
    {
     "data": {
      "text/html": [
       "<div>\n",
       "<style scoped>\n",
       "    .dataframe tbody tr th:only-of-type {\n",
       "        vertical-align: middle;\n",
       "    }\n",
       "\n",
       "    .dataframe tbody tr th {\n",
       "        vertical-align: top;\n",
       "    }\n",
       "\n",
       "    .dataframe thead th {\n",
       "        text-align: right;\n",
       "    }\n",
       "</style>\n",
       "<table border=\"1\" class=\"dataframe\">\n",
       "  <thead>\n",
       "    <tr style=\"text-align: right;\">\n",
       "      <th></th>\n",
       "      <th>index</th>\n",
       "      <th>Ponto de Partida</th>\n",
       "      <th>Ponto de Destino</th>\n",
       "      <th>Atraso Total</th>\n",
       "    </tr>\n",
       "  </thead>\n",
       "  <tbody>\n",
       "    <tr>\n",
       "      <th>0</th>\n",
       "      <td>3</td>\n",
       "      <td>Armazém Y</td>\n",
       "      <td>Loja Z</td>\n",
       "      <td>60 days</td>\n",
       "    </tr>\n",
       "    <tr>\n",
       "      <th>1</th>\n",
       "      <td>4</td>\n",
       "      <td>Armazém Z</td>\n",
       "      <td>Loja Y</td>\n",
       "      <td>20 days</td>\n",
       "    </tr>\n",
       "    <tr>\n",
       "      <th>2</th>\n",
       "      <td>0</td>\n",
       "      <td>Armazém X</td>\n",
       "      <td>Fábrica C</td>\n",
       "      <td>15 days</td>\n",
       "    </tr>\n",
       "    <tr>\n",
       "      <th>3</th>\n",
       "      <td>14</td>\n",
       "      <td>Loja Y</td>\n",
       "      <td>Armazém X</td>\n",
       "      <td>14 days</td>\n",
       "    </tr>\n",
       "    <tr>\n",
       "      <th>4</th>\n",
       "      <td>6</td>\n",
       "      <td>Fábrica A</td>\n",
       "      <td>Loja Z</td>\n",
       "      <td>13 days</td>\n",
       "    </tr>\n",
       "    <tr>\n",
       "      <th>5</th>\n",
       "      <td>17</td>\n",
       "      <td>Loja Z</td>\n",
       "      <td>Fábrica B</td>\n",
       "      <td>12 days</td>\n",
       "    </tr>\n",
       "    <tr>\n",
       "      <th>6</th>\n",
       "      <td>10</td>\n",
       "      <td>Fábrica C</td>\n",
       "      <td>Loja X</td>\n",
       "      <td>11 days</td>\n",
       "    </tr>\n",
       "    <tr>\n",
       "      <th>7</th>\n",
       "      <td>12</td>\n",
       "      <td>Loja X</td>\n",
       "      <td>Loja Y</td>\n",
       "      <td>8 days</td>\n",
       "    </tr>\n",
       "    <tr>\n",
       "      <th>8</th>\n",
       "      <td>9</td>\n",
       "      <td>Fábrica C</td>\n",
       "      <td>Armazém Z</td>\n",
       "      <td>8 days</td>\n",
       "    </tr>\n",
       "    <tr>\n",
       "      <th>9</th>\n",
       "      <td>1</td>\n",
       "      <td>Armazém Y</td>\n",
       "      <td>Armazém X</td>\n",
       "      <td>6 days</td>\n",
       "    </tr>\n",
       "    <tr>\n",
       "      <th>10</th>\n",
       "      <td>8</td>\n",
       "      <td>Fábrica B</td>\n",
       "      <td>Loja Z</td>\n",
       "      <td>6 days</td>\n",
       "    </tr>\n",
       "    <tr>\n",
       "      <th>11</th>\n",
       "      <td>13</td>\n",
       "      <td>Loja X</td>\n",
       "      <td>Loja Z</td>\n",
       "      <td>6 days</td>\n",
       "    </tr>\n",
       "    <tr>\n",
       "      <th>12</th>\n",
       "      <td>11</td>\n",
       "      <td>Fábrica X</td>\n",
       "      <td>Loja Y</td>\n",
       "      <td>5 days</td>\n",
       "    </tr>\n",
       "    <tr>\n",
       "      <th>13</th>\n",
       "      <td>15</td>\n",
       "      <td>Loja Y</td>\n",
       "      <td>Fábrica A</td>\n",
       "      <td>5 days</td>\n",
       "    </tr>\n",
       "    <tr>\n",
       "      <th>14</th>\n",
       "      <td>2</td>\n",
       "      <td>Armazém Y</td>\n",
       "      <td>Loja X</td>\n",
       "      <td>5 days</td>\n",
       "    </tr>\n",
       "    <tr>\n",
       "      <th>15</th>\n",
       "      <td>18</td>\n",
       "      <td>Loja Z</td>\n",
       "      <td>Loja X</td>\n",
       "      <td>5 days</td>\n",
       "    </tr>\n",
       "    <tr>\n",
       "      <th>16</th>\n",
       "      <td>5</td>\n",
       "      <td>Fábrica A</td>\n",
       "      <td>Armazém Y</td>\n",
       "      <td>2 days</td>\n",
       "    </tr>\n",
       "    <tr>\n",
       "      <th>17</th>\n",
       "      <td>7</td>\n",
       "      <td>Fábrica B</td>\n",
       "      <td>Loja X</td>\n",
       "      <td>1 days</td>\n",
       "    </tr>\n",
       "    <tr>\n",
       "      <th>18</th>\n",
       "      <td>16</td>\n",
       "      <td>Loja Y</td>\n",
       "      <td>Fábrica B</td>\n",
       "      <td>1 days</td>\n",
       "    </tr>\n",
       "  </tbody>\n",
       "</table>\n",
       "</div>"
      ],
      "text/plain": [
       "    index Ponto de Partida Ponto de Destino Atraso Total\n",
       "0       3        Armazém Y           Loja Z      60 days\n",
       "1       4        Armazém Z           Loja Y      20 days\n",
       "2       0        Armazém X        Fábrica C      15 days\n",
       "3      14           Loja Y        Armazém X      14 days\n",
       "4       6        Fábrica A           Loja Z      13 days\n",
       "5      17           Loja Z        Fábrica B      12 days\n",
       "6      10        Fábrica C           Loja X      11 days\n",
       "7      12           Loja X           Loja Y       8 days\n",
       "8       9        Fábrica C        Armazém Z       8 days\n",
       "9       1        Armazém Y        Armazém X       6 days\n",
       "10      8        Fábrica B           Loja Z       6 days\n",
       "11     13           Loja X           Loja Z       6 days\n",
       "12     11        Fábrica X           Loja Y       5 days\n",
       "13     15           Loja Y        Fábrica A       5 days\n",
       "14      2        Armazém Y           Loja X       5 days\n",
       "15     18           Loja Z           Loja X       5 days\n",
       "16      5        Fábrica A        Armazém Y       2 days\n",
       "17      7        Fábrica B           Loja X       1 days\n",
       "18     16           Loja Y        Fábrica B       1 days"
      ]
     },
     "execution_count": 33,
     "metadata": {},
     "output_type": "execute_result"
    }
   ],
   "source": [
    "atraso_por_trecho.reset_index(inplace=True)\n",
    "atraso_por_trecho"
   ]
  },
  {
   "cell_type": "code",
   "execution_count": 34,
   "id": "d8dd7308",
   "metadata": {},
   "outputs": [
    {
     "data": {
      "text/plain": [
       "Timedelta('203 days 00:00:00')"
      ]
     },
     "execution_count": 34,
     "metadata": {},
     "output_type": "execute_result"
    }
   ],
   "source": [
    "atraso_por_trecho['Atraso Total'].sum()"
   ]
  },
  {
   "cell_type": "code",
   "execution_count": 35,
   "id": "2fc1fe55",
   "metadata": {},
   "outputs": [
    {
     "data": {
      "text/plain": [
       "Timedelta('145 days 00:00:00')"
      ]
     },
     "execution_count": 35,
     "metadata": {},
     "output_type": "execute_result"
    }
   ],
   "source": [
    "atraso_por_trecho['Atraso Total'][:7].sum()"
   ]
  },
  {
   "cell_type": "code",
   "execution_count": 36,
   "id": "161e19fb",
   "metadata": {},
   "outputs": [
    {
     "data": {
      "text/plain": [
       "Timedelta('58 days 00:00:00')"
      ]
     },
     "execution_count": 36,
     "metadata": {},
     "output_type": "execute_result"
    }
   ],
   "source": [
    "atraso_por_trecho['Atraso Total'][7:].sum()"
   ]
  },
  {
   "cell_type": "code",
   "execution_count": 37,
   "id": "fac8d507",
   "metadata": {},
   "outputs": [
    {
     "data": {
      "text/plain": [
       "0.7142857142857143"
      ]
     },
     "execution_count": 37,
     "metadata": {},
     "output_type": "execute_result"
    }
   ],
   "source": [
    "atraso_por_trecho['Atraso Total'][:7].sum() / atraso_por_trecho['Atraso Total'].sum()"
   ]
  },
  {
   "cell_type": "markdown",
   "id": "afdb4af1",
   "metadata": {},
   "source": [
    "## Parte V: Conclusão"
   ]
  },
  {
   "cell_type": "markdown",
   "id": "0d31c04b",
   "metadata": {},
   "source": [
    "### O cálculo do on Time in Full foi de apenas 50.66%, ou seja, bem abaixo do OTIF almejado de 95% de precisão.\n",
    "\n",
    "### A esse baixo número, podemos associar ao seguintes elementos:\n",
    "\n",
    "### 1- A maioria dos atrasos são de menos de 4 dias, mas a maior frequência de atrasos ocorre entre os trechos abaixo:\n",
    "\n",
    "#### Armazém Z - Loja Y: 9              \n",
    "#### Fábrica C - Armazém Z: 5           \n",
    "#### Armazém Y - Loja X: 4              \n",
    "#### Armazém X - Fábrica C: 4           \n",
    "#### Fábrica B - Fábrica A: 4           \n",
    "\n",
    "### Mas os atrasos em entregas finalizadas costumam ser mais expressivos nos trechos abaixo, somando quase 30% dos atrasos em dias somados:\n",
    "\n",
    "#### Armazém Y - Loja Z:\t60 days\n",
    "#### Armazém Z - Loja Y:\t20 days\n",
    "#### Armazém X - Fábrica C:\t15 days\n",
    "#### Loja Y - Armazém X:\t14 days\n",
    "#### Fábrica A - Loja Z:\t13 days\n",
    "\n",
    "### Portanto, seria importante se dar uma atenção maior a esses trechos. \n",
    "\n",
    "### 2- Há problema com cerca de 26% das mercadorias entregues, incluindo itens danificados e faltantes. Portanto, seria preciso averiguar o processo de armazenagem e carregamento dessas mercadorias. "
   ]
  },
  {
   "cell_type": "code",
   "execution_count": null,
   "id": "3fe7d996",
   "metadata": {},
   "outputs": [],
   "source": []
  }
 ],
 "metadata": {
  "kernelspec": {
   "display_name": "Python 3 (ipykernel)",
   "language": "python",
   "name": "python3"
  },
  "language_info": {
   "codemirror_mode": {
    "name": "ipython",
    "version": 3
   },
   "file_extension": ".py",
   "mimetype": "text/x-python",
   "name": "python",
   "nbconvert_exporter": "python",
   "pygments_lexer": "ipython3",
   "version": "3.9.13"
  }
 },
 "nbformat": 4,
 "nbformat_minor": 5
}
